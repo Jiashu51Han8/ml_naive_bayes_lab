{
 "cells": [
  {
   "cell_type": "code",
   "execution_count": 1,
   "metadata": {},
   "outputs": [],
   "source": [
    "import numpy as np\n",
    "positive_data = \"/users/hanjiashu/desktop/Fall2020/ML2020Labs/data/movies_reviews/pos/\"\n",
    "negative_data = \"/users/hanjiashu/desktop/Fall2020/ML2020Labs/data/movies_reviews/neg/\"\n",
    "new_data = \"/users/hanjiashu/desktop/Fall2020/ML2020Labs/ml_naive_bayes_lab/reviews/\"\n",
    "stop_words_file = \"stop_words.txt\"\n",
    "\n",
    "import os\n",
    "# cwd = os.getcwd()\n",
    "# os.chdir(cwd)\n",
    "# print(os.listdir(positive_data))"
   ]
  },
  {
   "cell_type": "markdown",
   "metadata": {},
   "source": [
    "## Step 1\n",
    "Import the data and preprocess, remove all the stopwords and delete the special characters."
   ]
  },
  {
   "cell_type": "code",
   "execution_count": 2,
   "metadata": {},
   "outputs": [],
   "source": [
    "pos_reviews = []\n",
    "neg_reviews = []\n",
    "\n",
    "f = open(stop_words_file, \"r\", encoding=\"utf-8\")\n",
    "stopwords = []\n",
    "for line in f:\n",
    "    stopwords.append(line.strip())\n",
    "f.close()\n",
    "\n",
    "bad_chars = [',','.',';', ':', '!', \n",
    "                     \"*\", '?','<','>','/',\n",
    "                     '\"',\"'\",\"-\",\"_\",\"+\",\n",
    "                     \"=\",\"(\",\")\",\"\\n\", ' ', '&']\n",
    "\n",
    "for filename in os.listdir(positive_data):\n",
    "        file = open(positive_data+ filename, 'r')\n",
    "        data = file.read()\n",
    "        data = data.replace('\\n', '')\n",
    "        data = data.split(' ')\n",
    "        review_instance = \"\"\n",
    "        for i in data:\n",
    "            if i not in stopwords and i not in bad_chars:\n",
    "                review_instance += i\n",
    "                review_instance += ' '\n",
    "        pos_reviews.append(review_instance)\n",
    "        file.close()\n",
    "        \n",
    "        \n",
    "\n",
    "for filename in os.listdir(negative_data):\n",
    "        file = open(negative_data+ filename, 'r')\n",
    "        data = file.read()\n",
    "        data = data.replace('\\n', '')\n",
    "        data = data.split(' ')\n",
    "        review_instance = \"\"\n",
    "        for i in data:\n",
    "            if i not in stopwords and i not in bad_chars:\n",
    "                review_instance += i\n",
    "                review_instance += ' '\n",
    "\n",
    "        neg_reviews.append(review_instance)\n",
    "        file.close()"
   ]
  },
  {
   "cell_type": "code",
   "execution_count": 3,
   "metadata": {},
   "outputs": [
    {
     "name": "stdout",
     "output_type": "stream",
     "text": [
      "1005\n",
      "1000\n"
     ]
    }
   ],
   "source": [
    "print(len(pos_reviews))\n",
    "print(len(neg_reviews))"
   ]
  },
  {
   "cell_type": "markdown",
   "metadata": {},
   "source": [
    "### Sample result:\n"
   ]
  },
  {
   "cell_type": "code",
   "execution_count": 4,
   "metadata": {},
   "outputs": [
    {
     "name": "stdout",
     "output_type": "stream",
     "text": [
      "assume phrase used 1990's impressions rumors hardly phrase especially goes oscar novak architect main focus tango delightful funny romantic comedy assumptions novak matthew perry shy clumsy chicago based architect openly gay partner peter steinberg oliver platt fights projects day day job restoring popular building charles newman dylan mcdermott rich well-known businessman charles immediately takes liking oscar enjoys personality sense humor seeing oscar trust charles asks watch girlfriend unpredictable adventurous girl named amy post neve campbell makes living blowing glass charles wants know talks does goes point make sure she's seeing course oscar gladly takes job meets amy art sparks fly oscar feels meant content idea amy popular phrase 90's good things come end stays true oscar charles walks amy oscar having drink night oscar amy great friends doesn't mind thinks oscar gay he's afraid share oscar stands shock words swear weren't gay oscar i'd kill muttered flamboyantly charles' mouth word spreads instantly town oscar come supposed gayness tell isn't immediately think deny fact numerous occurrences come oscar result fact denies fact lose job charles matthew perry doesn't escape character chandler classic t v comedy friends oscar novak chandler clueless shy sensitive nonetheless perry hilarious shows handle drama obviously character suffers quite bit it's wonderful neve campbell outside horror movie star scream 1 2 upcoming scream 3 handles comedy superbly voice smile personality perfect romantic comedies- stay genre neve neve delightful conflicted character feels love oscar knows based rumors gay usual campbell likable likable character unlike leads dylan mcdermott flat dialogue convincing character present mcdermott sets dull tone scene horrible acting stick t v drama practice dylan major weak spot tango direction damon santostefano originality technique used whatsoever tango lucky script edgy perry campbell wonderful comedy film disaster just plain boring look tango film times plot suspiciously close 1998's object affection plot completed tango's script written rodney patrick vaccaro aline brosh mckenna fun fast funny delivering original hilarious gay jokes run material certain snappiness dialogue characters keeps smiling unlike summer's south park bigger longer uncut 1997's tango comedy gay element crude vulgar script wise route gays can't don't think offended light playful comedy  prove gay couple audience laughing constantly tango's climax hilarious clever scene pure irony based outcome romantic-mistaken identity comedies tango gem line tango light sharp snappy romantic comedy superb ending great stars better romantic comedies 1999  \n"
     ]
    }
   ],
   "source": [
    "print(pos_reviews[0])"
   ]
  },
  {
   "cell_type": "markdown",
   "metadata": {},
   "source": [
    "## Step 2:\n",
    "After finishing pre-processing the reviews, I split it into test and training sets:"
   ]
  },
  {
   "cell_type": "code",
   "execution_count": 5,
   "metadata": {},
   "outputs": [],
   "source": [
    "posn = 700\n",
    "negn = 700\n",
    "X_train_reviews = pos_reviews[:posn] + neg_reviews[:negn]\n",
    "X_test_reviews = pos_reviews[posn:] + neg_reviews[negn:]\n",
    "\n",
    "from sklearn.feature_extraction.text import CountVectorizer\n",
    "count_vect = CountVectorizer()\n",
    "X_train = count_vect.fit_transform(X_train_reviews)\n",
    "\n",
    "Y_train = ['pos']*posn + ['neg']*negn\n",
    "# print(X_train)\n",
    "\n",
    "\n",
    "# from sklearn.feature_extraction.text import TfidfTransformer\n",
    "# tfidf_transformer = TfidfTransformer()\n",
    "# X_train_2 = tfidf_transformer.fit_transform(X_train)\n",
    "\n",
    "# print(X_train_2)"
   ]
  },
  {
   "cell_type": "markdown",
   "metadata": {},
   "source": [
    "## Step 3\n",
    "Implement NB algorithm, I chose the algorithm \"MultinomialNB\""
   ]
  },
  {
   "cell_type": "code",
   "execution_count": 6,
   "metadata": {},
   "outputs": [
    {
     "name": "stdout",
     "output_type": "stream",
     "text": [
      "Accuracy for train: 0.9814285714285714\n",
      "Accuracy for test: 0.8132231404958677\n"
     ]
    }
   ],
   "source": [
    "from sklearn.naive_bayes import MultinomialNB\n",
    "from sklearn.metrics import accuracy_score\n",
    "\n",
    "X_train = (count_vect.fit_transform(X_train_reviews))\n",
    "clf = MultinomialNB().fit(X_train, Y_train)\n",
    "predicted = clf.predict(X_train)\n",
    "\n",
    "print(\"Accuracy for train:\", accuracy_score(Y_train, predicted))\n",
    "\n",
    "\n",
    "X_test = count_vect.transform(X_test_reviews)\n",
    "Y_test = ['pos']*(len(pos_reviews)-posn) + ['neg']*(len(neg_reviews)-negn)\n",
    "predicted = clf.predict(X_test)\n",
    "\n",
    "\n",
    "print(\"Accuracy for test:\", accuracy_score(Y_test, predicted))"
   ]
  },
  {
   "cell_type": "code",
   "execution_count": 7,
   "metadata": {},
   "outputs": [
    {
     "name": "stdout",
     "output_type": "stream",
     "text": [
      "predicted: pos\n",
      "real: 4/5\n",
      "\n",
      "predicted: pos\n",
      "real: 5/5\n",
      "\n",
      "predicted: pos\n",
      "real: 4/5\n",
      "\n",
      "predicted: neg\n",
      "real: 1/5\n",
      "\n",
      "predicted: pos\n",
      "real: 2/5\n",
      "\n"
     ]
    }
   ],
   "source": [
    "new_reviews = []\n",
    "real = []\n",
    "new_data = \"/users/hanjiashu/desktop/Fall2020/ML2020Labs/ml_naive_bayes_lab/reviews/\"\n",
    "# for filename in os.listdir(new_data):\n",
    "#     if filename != \".ipynb_checkpoints\":\n",
    "# #         print(new_data+filename)\n",
    "#         file =  open(new_data + filename, 'r')\n",
    "#         data = file.read()\n",
    "#         bad_chars = [',','.',';', ':', '!',\n",
    "#                      \"*\", '?','<','>','/',\n",
    "#                      '\"',\"'\",\"-\",\"_\",\"+\",\n",
    "#                      \"=\",\"(\",\")\",\"\\n\"]\n",
    "#         test_string = data \n",
    "#         test_string = ''.join((filter(lambda i: i not in bad_chars, test_string)))\n",
    "#         new_reviews.append(test_string)\n",
    "#         real.append(filename[0])\n",
    "\n",
    "        \n",
    "        \n",
    "for filename in os.listdir(new_data):\n",
    "        if filename != \".ipynb_checkpoints\":\n",
    "            file = open(new_data+ filename, 'r')\n",
    "            data = file.read()\n",
    "            data = data.replace('\\n', '')\n",
    "            data = data.split(' ')\n",
    "            review_instance = \"\"\n",
    "            for i in data:\n",
    "                if i not in stopwords and i not in bad_chars:\n",
    "                    review_instance += i\n",
    "                    review_instance += ' '\n",
    "            new_reviews.append(review_instance)\n",
    "            real.append(filename[0])\n",
    "            file.close()\n",
    "        \n",
    "x_new_tf = count_vect.transform(new_reviews)\n",
    "predict_ = clf.predict(x_new_tf)\n",
    "for i in range(5):\n",
    "    print('predicted: {}'.format(predict_[i]))\n",
    "    print('real: {}/5'.format(real[i]))\n",
    "    print()\n"
   ]
  },
  {
   "cell_type": "markdown",
   "metadata": {},
   "source": [
    "## Result\n",
    "Almost classified all correctly.\n",
    "but there is one thing to note, although I did a small clean up, removing all the stop words and the punctuation special characters, the accuracy for the test was basically the same for when I did not remove it!\n"
   ]
  },
  {
   "cell_type": "code",
   "execution_count": 8,
   "metadata": {},
   "outputs": [
    {
     "name": "stdout",
     "output_type": "stream",
     "text": [
      "Accuracy for test: 0.9678571428571429\n",
      "Accuracy for train: 0.8115702479338843\n"
     ]
    }
   ],
   "source": [
    "pos_reviews = []\n",
    "neg_reviews = []\n",
    "\n",
    "for filename in os.listdir(positive_data):\n",
    "        file = open(positive_data+ filename, 'r')\n",
    "        data = file.read()\n",
    "        data = data.replace('\\n', '')\n",
    "        pos_reviews.append(data)\n",
    "        file.close()\n",
    "        \n",
    "for filename in os.listdir(negative_data):\n",
    "        file = open(negative_data+ filename, 'r')\n",
    "        data = file.read()\n",
    "\n",
    "        data = data.replace('\\n', '')\n",
    "        neg_reviews.append(data)\n",
    "        file.close()\n",
    "\n",
    "posn = 700\n",
    "negn = 700\n",
    "X_train_reviews = pos_reviews[:posn] + neg_reviews[:negn]\n",
    "X_test_reviews = pos_reviews[posn:] + neg_reviews[negn:]\n",
    "\n",
    "from sklearn.feature_extraction.text import CountVectorizer\n",
    "count_vect = CountVectorizer()\n",
    "X_train_tf = count_vect.fit_transform(X_train_reviews)\n",
    "\n",
    "from sklearn.feature_extraction.text import TfidfTransformer\n",
    "tfidf_transformer = TfidfTransformer()\n",
    "X_train_tfidf = tfidf_transformer.fit_transform(X_train_tf)\n",
    "Y_train = ['pos']*posn + ['neg']*negn\n",
    "len(Y_train)          \n",
    "\n",
    "from sklearn.naive_bayes import ComplementNB\n",
    "clf = ComplementNB().fit(X_train_tfidf, Y_train)\n",
    "predicted = clf.predict(X_train_tfidf)\n",
    "from sklearn.metrics import accuracy_score\n",
    "print(\"Accuracy for test:\", accuracy_score(Y_train, predicted))\n",
    "\n",
    "X_test_tfidf = count_vect.transform(X_test_reviews)\n",
    "Y_test = ['pos']*(len(pos_reviews)-posn) + ['neg']*(len(neg_reviews)-negn)\n",
    "predicted = clf.predict(X_test_tfidf)\n",
    "print(\"Accuracy for train:\", accuracy_score(Y_test, predicted))\n"
   ]
  }
 ],
 "metadata": {
  "kernelspec": {
   "display_name": "Python 3",
   "language": "python",
   "name": "python3"
  },
  "language_info": {
   "codemirror_mode": {
    "name": "ipython",
    "version": 3
   },
   "file_extension": ".py",
   "mimetype": "text/x-python",
   "name": "python",
   "nbconvert_exporter": "python",
   "pygments_lexer": "ipython3",
   "version": "3.6.12"
  }
 },
 "nbformat": 4,
 "nbformat_minor": 4
}
